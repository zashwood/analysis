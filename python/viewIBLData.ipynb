{
 "cells": [
  {
   "cell_type": "code",
   "execution_count": 1,
   "metadata": {},
   "outputs": [
    {
     "name": "stdout",
     "output_type": "stream",
     "text": [
      "Connecting zoe.ashwood@datajoint.internationalbrainlab.org:3306\n"
     ]
    }
   ],
   "source": [
    "import pandas as pd\n",
    "import numpy as np\n",
    "import sys, os, time\n",
    "import matplotlib.pyplot as plt\n",
    "import seaborn as sns\n",
    "import datajoint as dj\n",
    "from scipy.special import erf # for psychometric functions\n",
    "\n",
    "## INITIALIZE A FEW THINGS\n",
    "sns.set(style=\"darkgrid\", context=\"paper\", font='Helvetica')\n",
    "sns.set(style=\"darkgrid\", context=\"paper\", font_scale=1.4)\n",
    "sns.set_style(\"darkgrid\", {'xtick.bottom': True,'ytick.left': True, 'lines.markeredgewidth':0})\n",
    "\n",
    "# import wrappers etc\n",
    "from ibl_pipeline import reference, subject, action, acquisition, data, behavior\n",
    "from ibl_pipeline.utils import psychofit as psy\n",
    "from ibl_pipeline.analyses import behavior as behavioral_analyses\n",
    "from dj_tools import *\n",
    "\n",
    "figpath  ='../Figures/'"
   ]
  },
  {
   "cell_type": "code",
   "execution_count": 2,
   "metadata": {},
   "outputs": [
    {
     "name": "stdout",
     "output_type": "stream",
     "text": [
      "['wittenlab', 'mainenlab', 'churchlandlab', 'angelakilab', 'cortexlab', 'danlab', 'mrsicflogellab', 'zadorlab']\n"
     ]
    }
   ],
   "source": [
    "sess = ((acquisition.Session & 'task_protocol LIKE \"%trainingchoice%\"') * \\\n",
    " (behavioral_analyses.SessionTrainingStatus() & 'training_status=\"trained\"'))\n",
    "\n",
    "# sess = (acquisition.Session * \\\n",
    "#  (behavioral_analyses.SessionTrainingStatus() & 'training_status=\"trained\"'))\n",
    "\n",
    "s = pd.DataFrame.from_dict(sess.fetch(as_dict=True))\n",
    "labs = list(s['session_lab'].unique())\n",
    "labs.append('zadorlab')\n",
    "print(labs)"
   ]
  },
  {
   "cell_type": "code",
   "execution_count": 3,
   "metadata": {},
   "outputs": [
    {
     "name": "stdout",
     "output_type": "stream",
     "text": [
      "wittenlab\n",
      "['ibl_witten_04' 'ibl_witten_05' 'ibl_witten_06' 'ibl_witten_07']\n",
      "mainenlab\n",
      "['ZM_1084' 'ZM_1085' 'ZM_1086' 'ZM_1087' 'ZM_1089' 'ZM_1091' 'ZM_1092'\n",
      " 'ZM_1093' 'ZM_1095' 'ZM_1097' 'ZM_1098' 'ZM_1367' 'ZM_1369' 'ZM_1371'\n",
      " 'ZM_1372' 'ZM_1373']\n",
      "churchlandlab\n",
      "['CSHL_001' 'CSHL_002' 'CSHL_003' 'CSHL_005' 'CSHL_007' 'CSHL_008'\n",
      " 'CSHL_010']\n",
      "angelakilab\n",
      "['IBL-T1' 'IBL-T2' 'IBL-T3' 'IBL-T4' 'NYU-01' 'NYU-02']\n",
      "cortexlab\n",
      "['KS003' 'KS005']\n",
      "danlab\n",
      "['DY_001' 'DY_002' 'DY_003']\n",
      "mrsicflogellab\n",
      "['IBL_002']\n",
      "zadorlab\n",
      "['CSK-IBL-003']\n",
      "KS001\n",
      "MW003\n",
      "MW001\n",
      "MW002\n",
      "LEW008\n",
      "LEW009\n",
      "LEW010\n"
     ]
    }
   ],
   "source": [
    "# hack to get around SQL limit\n",
    "for lidx, lab in enumerate(labs):\n",
    "\n",
    "\tprint(lab)\n",
    "\tb = (behavior.TrialSet.Trial & (subject.SubjectLab() & 'lab_name=\"%s\"'%lab)) \\\n",
    "\t\t* sess.proj('session_uuid','task_protocol') \\\n",
    "\t\t* subject.SubjectLab.proj('lab_name') \\\n",
    "\t\t* subject.Subject() & 'subject_birth_date between \"2018-09-01\" and \"2019-02-01\"' & 'subject_line IS NULL OR subject_line=\"C57BL/6J\"'\n",
    "\n",
    "\tbdat = pd.DataFrame(b.fetch(order_by='subject_nickname, session_start_time, trial_id'))\n",
    "\tprint(bdat['subject_nickname'].unique())\n",
    "\n",
    "\tif lidx == 0:\n",
    "\t\tbehav = bdat.copy()\n",
    "\telse:\n",
    "\t\tbehav = behav.append(bdat.copy(), sort=False, ignore_index=True)\n",
    "\n",
    "# ================================= #\n",
    "# for now, manually add the cortexlab matlab animals\n",
    "# ================================= #\n",
    "\n",
    "ucl_mice = ['KS001', 'MW003', 'MW001', 'MW002', 'LEW008', 'LEW009', 'LEW010']\n",
    "ucl_trained_dates = ['2019-02-25', '2018-12-10', '2019-02-11', '2019-01-14', '2018-10-04', '2018-10-04', 'LEW010']\n",
    "\n",
    "for midx, mouse in enumerate(ucl_mice):\n",
    "\n",
    "\tprint(mouse)\n",
    "\tsess = (acquisition.Session.proj('session_start_time', 'task_protocol', 'session_uuid', session_date='DATE(session_start_time)') & \\\n",
    "\t\t'session_date > \"%s\"'%ucl_trained_dates[midx]) * behavioral_analyses.SessionTrainingStatus()\n",
    "\tb = ((behavior.TrialSet.Trial & (subject.SubjectLab() & 'lab_name=\"cortexlab\"')) \\\n",
    "\t\t* subject.SubjectLab.proj('lab_name') \\\n",
    "\t\t* subject.Subject() & 'subject_nickname=\"%s\"'%mouse) \\\n",
    "\t\t* sess\n",
    "\n",
    "\tbdat  = pd.DataFrame(b.fetch(order_by='subject_nickname, session_start_time, trial_id'))\n",
    "\tbehav = behav.append(bdat.copy(), sort=False, ignore_index=True)"
   ]
  },
  {
   "cell_type": "code",
   "execution_count": 4,
   "metadata": {},
   "outputs": [],
   "source": [
    "# ================================= #\n",
    "# convert\n",
    "# ================================= #\n",
    "\n",
    "behav = dj2pandas(behav)\n",
    "behav['lab_name'] = behav['lab_name'].str.replace('zadorlab', 'churchlandlab')"
   ]
  },
  {
   "cell_type": "code",
   "execution_count": 10,
   "metadata": {},
   "outputs": [
    {
     "data": {
      "text/html": [
       "<div>\n",
       "<style scoped>\n",
       "    .dataframe tbody tr th:only-of-type {\n",
       "        vertical-align: middle;\n",
       "    }\n",
       "\n",
       "    .dataframe tbody tr th {\n",
       "        vertical-align: top;\n",
       "    }\n",
       "\n",
       "    .dataframe thead th {\n",
       "        text-align: right;\n",
       "    }\n",
       "</style>\n",
       "<table border=\"1\" class=\"dataframe\">\n",
       "  <thead>\n",
       "    <tr style=\"text-align: right;\">\n",
       "      <th></th>\n",
       "      <th>probabilityLeft</th>\n",
       "      <th>Freq</th>\n",
       "    </tr>\n",
       "  </thead>\n",
       "  <tbody>\n",
       "    <tr>\n",
       "      <th>0</th>\n",
       "      <td>0</td>\n",
       "      <td>190</td>\n",
       "    </tr>\n",
       "    <tr>\n",
       "      <th>1</th>\n",
       "      <td>10</td>\n",
       "      <td>372</td>\n",
       "    </tr>\n",
       "    <tr>\n",
       "      <th>2</th>\n",
       "      <td>20</td>\n",
       "      <td>50122</td>\n",
       "    </tr>\n",
       "    <tr>\n",
       "      <th>3</th>\n",
       "      <td>30</td>\n",
       "      <td>1040</td>\n",
       "    </tr>\n",
       "    <tr>\n",
       "      <th>4</th>\n",
       "      <td>40</td>\n",
       "      <td>1265</td>\n",
       "    </tr>\n",
       "    <tr>\n",
       "      <th>5</th>\n",
       "      <td>50</td>\n",
       "      <td>230871</td>\n",
       "    </tr>\n",
       "    <tr>\n",
       "      <th>6</th>\n",
       "      <td>60</td>\n",
       "      <td>1392</td>\n",
       "    </tr>\n",
       "    <tr>\n",
       "      <th>7</th>\n",
       "      <td>70</td>\n",
       "      <td>1181</td>\n",
       "    </tr>\n",
       "    <tr>\n",
       "      <th>8</th>\n",
       "      <td>80</td>\n",
       "      <td>50328</td>\n",
       "    </tr>\n",
       "    <tr>\n",
       "      <th>9</th>\n",
       "      <td>90</td>\n",
       "      <td>702</td>\n",
       "    </tr>\n",
       "    <tr>\n",
       "      <th>10</th>\n",
       "      <td>100</td>\n",
       "      <td>737</td>\n",
       "    </tr>\n",
       "  </tbody>\n",
       "</table>\n",
       "</div>"
      ],
      "text/plain": [
       "    probabilityLeft    Freq\n",
       "0                 0     190\n",
       "1                10     372\n",
       "2                20   50122\n",
       "3                30    1040\n",
       "4                40    1265\n",
       "5                50  230871\n",
       "6                60    1392\n",
       "7                70    1181\n",
       "8                80   50328\n",
       "9                90     702\n",
       "10              100     737"
      ]
     },
     "execution_count": 10,
     "metadata": {},
     "output_type": "execute_result"
    }
   ],
   "source": [
    "behav.groupby(['probabilityLeft']).size().reset_index(name='Freq')"
   ]
  },
  {
   "cell_type": "code",
   "execution_count": 6,
   "metadata": {},
   "outputs": [
    {
     "data": {
      "text/html": [
       "<div>\n",
       "<style scoped>\n",
       "    .dataframe tbody tr th:only-of-type {\n",
       "        vertical-align: middle;\n",
       "    }\n",
       "\n",
       "    .dataframe tbody tr th {\n",
       "        vertical-align: top;\n",
       "    }\n",
       "\n",
       "    .dataframe thead th {\n",
       "        text-align: right;\n",
       "    }\n",
       "</style>\n",
       "<table border=\"1\" class=\"dataframe\">\n",
       "  <thead>\n",
       "    <tr style=\"text-align: right;\">\n",
       "      <th></th>\n",
       "      <th>choice</th>\n",
       "      <th>trial_response_choice</th>\n",
       "      <th>Freq</th>\n",
       "    </tr>\n",
       "  </thead>\n",
       "  <tbody>\n",
       "    <tr>\n",
       "      <th>0</th>\n",
       "      <td>-1</td>\n",
       "      <td>CW</td>\n",
       "      <td>164517</td>\n",
       "    </tr>\n",
       "    <tr>\n",
       "      <th>1</th>\n",
       "      <td>0</td>\n",
       "      <td>No Go</td>\n",
       "      <td>1053</td>\n",
       "    </tr>\n",
       "    <tr>\n",
       "      <th>2</th>\n",
       "      <td>1</td>\n",
       "      <td>CCW</td>\n",
       "      <td>172630</td>\n",
       "    </tr>\n",
       "  </tbody>\n",
       "</table>\n",
       "</div>"
      ],
      "text/plain": [
       "   choice trial_response_choice    Freq\n",
       "0      -1                    CW  164517\n",
       "1       0                 No Go    1053\n",
       "2       1                   CCW  172630"
      ]
     },
     "execution_count": 6,
     "metadata": {},
     "output_type": "execute_result"
    }
   ],
   "source": [
    "behav.groupby(['choice', 'trial_response_choice']).size().reset_index(name='Freq')"
   ]
  },
  {
   "cell_type": "code",
   "execution_count": 7,
   "metadata": {},
   "outputs": [
    {
     "name": "stdout",
     "output_type": "stream",
     "text": [
      "    signed_contrast      ntrials  fraction\n",
      "0              -100  1963.000000  0.116731\n",
      "1               -50   536.666667  0.128192\n",
      "2               -25  1848.250000  0.202415\n",
      "3               -12  1862.875000  0.306708\n",
      "4                -6  1728.750000  0.392050\n",
      "5                 0  1986.750000  0.526605\n",
      "6                 6  1739.000000  0.642821\n",
      "7                12  1834.375000  0.748583\n",
      "8                25  1853.375000  0.854406\n",
      "9                50   522.000000  0.869688\n",
      "10              100  1884.750000  0.923964\n",
      "[-0.40600103 23.57243155  0.12500816  0.08805795]\n",
      "-9184.597400142588\n",
      "    signed_contrast     ntrials  fraction\n",
      "0              -100  234.250000  0.095261\n",
      "1               -50   24.333333  0.122222\n",
      "2               -25  228.875000  0.177199\n",
      "3               -12  245.875000  0.231262\n",
      "4                -6  229.000000  0.317477\n",
      "5                 0  223.375000  0.458087\n",
      "6                 6  226.500000  0.653233\n",
      "7                12  235.250000  0.788507\n",
      "8                25  224.500000  0.866502\n",
      "9                50   41.666667  0.946204\n",
      "10              100  222.875000  0.944017\n",
      "[ 1.84356877 18.34037124  0.12098045  0.06837181]\n",
      "-1037.965704097721\n",
      "    signed_contrast   ntrials  fraction\n",
      "0              -100  513.2500  0.057843\n",
      "1               -50   25.5000  0.107143\n",
      "2               -25  498.1250  0.095488\n",
      "3               -12  517.5000  0.176385\n",
      "4                -6  518.4375  0.291393\n",
      "5                 0  548.0625  0.467964\n",
      "6                 6  514.9375  0.669594\n",
      "7                12  502.3125  0.815203\n",
      "8                25  490.6875  0.875757\n",
      "9                50   26.5000  0.880037\n",
      "10              100  491.1250  0.927840\n",
      "[ 0.34041294 14.63821137  0.07358107  0.09147806]\n",
      "-2105.6669716371093\n",
      "    signed_contrast      ntrials  fraction\n",
      "0              -100  1381.333333  0.098748\n",
      "1               -50    37.000000  0.081081\n",
      "2               -25  1324.333333  0.129476\n",
      "3               -12  1342.500000  0.207591\n",
      "4                -6  1385.166667  0.321544\n",
      "5                 0  1422.333333  0.460662\n",
      "6                 6  1370.500000  0.636089\n",
      "7                12  1351.000000  0.793468\n",
      "8                25  1313.500000  0.895208\n",
      "9                50    30.000000  0.933333\n",
      "10              100  1291.166667  0.960484\n",
      "[ 2.07800519 17.86942518  0.10387795  0.05048769]\n",
      "-5764.261181733403\n",
      "    signed_contrast     ntrials  fraction\n",
      "0              -100  151.666667  0.015102\n",
      "1               -50   38.500000  0.047170\n",
      "2               -25  155.333333  0.125546\n",
      "3               -12  167.666667  0.293433\n",
      "4                -6  151.666667  0.490443\n",
      "5                 0  157.666667  0.746898\n",
      "6                 6  148.666667  0.829523\n",
      "7                12  154.333333  0.914239\n",
      "8                25  155.333333  0.910556\n",
      "9                50   36.500000  0.981481\n",
      "10              100  142.000000  0.961178\n",
      "[-7.29535896 16.64912712  0.027504    0.05352274]\n",
      "-566.815941182787\n",
      "   signed_contrast  ntrials  fraction\n",
      "0             -100   844.00  0.041349\n",
      "1              -25   855.25  0.117586\n",
      "2              -12   888.50  0.249151\n",
      "3               -6   892.25  0.380769\n",
      "4                0   929.25  0.530629\n",
      "5                6   918.00  0.621375\n",
      "6               12   873.75  0.773692\n",
      "7               25   850.50  0.848304\n",
      "8              100   844.00  0.919144\n",
      "[-1.72195164 22.66534597  0.04316699  0.08827493]\n",
      "-3871.381775074197\n"
     ]
    },
    {
     "data": {
      "text/plain": [
       "<seaborn.axisgrid.FacetGrid at 0x1a31700dd8>"
      ]
     },
     "execution_count": 7,
     "metadata": {},
     "output_type": "execute_result"
    },
    {
     "data": {
      "image/png": "[encoded data removed]",
      "text/plain": [
       "<Figure size 648x432 with 6 Axes>"
      ]
     },
     "metadata": {},
     "output_type": "display_data"
    }
   ],
   "source": [
    "# ================================= #\n",
    "# ONLY BLACK/neutral CURVES!\n",
    "# ================================= #\n",
    "\n",
    "sns.set_palette(\"gist_gray\")  # palette for water types\n",
    "fig = sns.FacetGrid(behav, \n",
    "\tcol=\"lab_name\", col_order=['cortexlab', 'churchlandlab', 'mainenlab', 'angelakilab', 'danlab', 'wittenlab'], col_wrap=3,\n",
    "\tpalette=\"gist_gray\", sharex=True, sharey=True, aspect=1)\n",
    "fig.map(plot_psychometric, \"signed_contrast\", \"choice_right\", \"subject_nickname\")\n",
    "\n",
    "#fig.map(plot_chronometric, \"signed_contrast\", \"rt\")\n",
    "fig.set_axis_labels('Signed contrast (%)', 'Rightward choice (%)')\n"
   ]
  },
  {
   "cell_type": "code",
   "execution_count": null,
   "metadata": {},
   "outputs": [],
   "source": [
    "\n",
    "# FOR PARIS MEETING, ADD N IN TITLE\n",
    "# titles = behav.groupby('lab_name').agg({'subject_nickname':'nunique', 'choice':\n",
    "\t# 'count'}).reset_index()      \n",
    "# titles2 = ['%s | %d mice, %d trials'%(df['lab_name'], df['subject_nickname'], df['choice']) for i, df in titles.iterrows()]\n",
    "# titles2 = ['%s lab'%(str.title(df['lab_name'][:-3])) for i, df in titles.iterrows()]\n",
    "# # titles2 = [t.replace('Churchland lab', 'Churchland & Zador labs') for t in titles2]\n",
    "# titles2 = [t.replace('Cortex lab', 'Carandini-Harris lab') for t in titles2]\n",
    "titles2 = ['Carandini-Harris lab', 'Churchland & Zador labs', 'Mainen lab', 'Angelaki lab', 'Dan lab', 'Witten lab']\n",
    "\n",
    "for ax, title in zip(fig.axes.flat, titles2):\n",
    "    ax.set_title(title)\n",
    "fig.despine(trim=True)\n",
    "fig.savefig(os.path.join(figpath, \"psychfuncs_summary.pdf\"))\n",
    "fig.savefig(os.path.join(figpath, \"psychfuncs_summary.png\"), dpi=600)\n",
    "plt.close('all')"
   ]
  },
  {
   "cell_type": "code",
   "execution_count": null,
   "metadata": {},
   "outputs": [],
   "source": [
    "# grab only example subjects from datajoint\n",
    "import pandas as pd\n",
    "import datajoint as dj\n",
    "\n",
    "# snippet to get data you need\n",
    "# sess_training = (acquisition.Session & 'task_protocol NOT LIKE \"%biased%\"')\n",
    "sess_stable   = (acquisition.Session & 'task_protocol LIKE \"%biased%\"')\n",
    "\n",
    "example_mice  = [{'subject_nickname': 'CSHL_005'}, {'subject_nickname': 'CSHL_007'}, \n",
    "\t{'subject_nickname': 'IBL-T1'}, {'subject_nickname':'IBL-T4'}, \n",
    "\t{'subject_nickname': 'ibl_witten_04'}, {'subject_nickname':'ibl_witten_05'}]\n",
    "\n",
    "# behavior_training = (behavior.TrialSet.Trial & (subject.Subject & example_mice)) \\\n",
    "# \t* sess_training.proj('session_uuid','task_protocol') * subject.Subject.proj('subject_nickname') \\\n",
    "# \t* subject.SubjectLab.proj('lab_name')\n",
    "behavior_stable = (behavior.TrialSet.Trial & (subject.Subject & example_mice)) \\\n",
    "\t* sess_stable.proj('session_uuid','task_protocol') * subject.Subject.proj('subject_nickname') \\\n",
    "\t* subject.SubjectLab.proj('lab_name')\n",
    "data = pd.DataFrame(behavior_training.fetch(order_by='subject_nickname, session_start_time, trial_id'))"
   ]
  },
  {
   "cell_type": "code",
   "execution_count": null,
   "metadata": {},
   "outputs": [],
   "source": [
    "behavior_stable"
   ]
  },
  {
   "cell_type": "code",
   "execution_count": null,
   "metadata": {},
   "outputs": [],
   "source": []
  }
 ],
 "metadata": {
  "kernelspec": {
   "display_name": "Python 3",
   "language": "python",
   "name": "python3"
  },
  "language_info": {
   "codemirror_mode": {
    "name": "ipython",
    "version": 3
   },
   "file_extension": ".py",
   "mimetype": "text/x-python",
   "name": "python",
   "nbconvert_exporter": "python",
   "pygments_lexer": "ipython3",
   "version": "3.6.5"
  }
 },
 "nbformat": 4,
 "nbformat_minor": 2
}
